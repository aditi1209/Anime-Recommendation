{
  "nbformat": 4,
  "nbformat_minor": 0,
  "metadata": {
    "colab": {
      "name": "Anime_Recommendation.ipynb",
      "provenance": [],
      "collapsed_sections": [],
      "include_colab_link": true
    },
    "kernelspec": {
      "name": "python3",
      "display_name": "Python 3"
    }
  },
  "cells": [
    {
      "cell_type": "markdown",
      "metadata": {
        "id": "view-in-github",
        "colab_type": "text"
      },
      "source": [
        "<a href=\"https://colab.research.google.com/github/aditi1209/Anime-Recommendation/blob/master/Anime_Recommendation.ipynb\" target=\"_parent\"><img src=\"https://colab.research.google.com/assets/colab-badge.svg\" alt=\"Open In Colab\"/></a>"
      ]
    },
    {
      "cell_type": "code",
      "metadata": {
        "id": "CFYeFSaPZI2k",
        "colab_type": "code",
        "colab": {}
      },
      "source": [
        "pip install meaningcloud-python"
      ],
      "execution_count": 0,
      "outputs": []
    },
    {
      "cell_type": "code",
      "metadata": {
        "id": "yAgKBlOp0MS4",
        "colab_type": "code",
        "colab": {}
      },
      "source": [
        "import pandas as pd\n",
        "import tweepy as tw\n",
        "import meaningcloud as mc"
      ],
      "execution_count": 0,
      "outputs": []
    },
    {
      "cell_type": "code",
      "metadata": {
        "id": "o2FG09eN8fJE",
        "colab_type": "code",
        "colab": {},
        "cellView": "both"
      },
      "source": [
        "#@title\n",
        "consumer_key = 'Enter twitter consumer key'\n",
        "consumer_secret_key = 'Enter twitter consumer secret key'\n",
        "access_token = 'Enter access token'\n",
        "access_token_secret = 'Enter access secret token'"
      ],
      "execution_count": 0,
      "outputs": []
    },
    {
      "cell_type": "code",
      "metadata": {
        "id": "dUiy2B8ca2Sc",
        "colab_type": "code",
        "colab": {}
      },
      "source": [
        "#variable intialization\n",
        "tweet_keywords = set()\n",
        "all_tweets = ''\n",
        "license_key = 'Enter meaning cloud license key'\n",
        "model = 'IAB_en'"
      ],
      "execution_count": 0,
      "outputs": []
    },
    {
      "cell_type": "code",
      "metadata": {
        "id": "E9AQOrb-GyY8",
        "colab_type": "code",
        "colab": {}
      },
      "source": [
        "auth = tw.OAuthHandler(consumer_key= consumer_key, consumer_secret= consumer_secret_key)"
      ],
      "execution_count": 0,
      "outputs": []
    },
    {
      "cell_type": "code",
      "metadata": {
        "id": "y1M4rm-fINR2",
        "colab_type": "code",
        "colab": {}
      },
      "source": [
        "auth.set_access_token(access_token, access_token_secret)"
      ],
      "execution_count": 0,
      "outputs": []
    },
    {
      "cell_type": "code",
      "metadata": {
        "id": "9uRGJch6JUnu",
        "colab_type": "code",
        "colab": {}
      },
      "source": [
        "api = tw.API(auth, wait_on_rate_limit=True)"
      ],
      "execution_count": 0,
      "outputs": []
    },
    {
      "cell_type": "code",
      "metadata": {
        "id": "Rh7YPsBDJogO",
        "colab_type": "code",
        "colab": {}
      },
      "source": [
        "username = input(\"Enter the twitter handle: \")"
      ],
      "execution_count": 0,
      "outputs": []
    },
    {
      "cell_type": "code",
      "metadata": {
        "id": "ZwUt--LVUmiG",
        "colab_type": "code",
        "colab": {}
      },
      "source": [
        "#finding out the tweets of a person whose handle is provided\n",
        "tweets = tw.Cursor(api.user_timeline, id = username, lang = 'en').items()\n",
        "print(tweets)"
      ],
      "execution_count": 0,
      "outputs": []
    },
    {
      "cell_type": "code",
      "metadata": {
        "id": "7A3sDfQAVsy-",
        "colab_type": "code",
        "cellView": "both",
        "colab": {}
      },
      "source": [
        "#merging all tweets together in a single string\n",
        "for tweet in tweets:\n",
        "  all_tweets = all_tweets + ' ' + tweet.text\n",
        "all_tweets"
      ],
      "execution_count": 0,
      "outputs": []
    },
    {
      "cell_type": "code",
      "metadata": {
        "id": "z5kCTYh31hkt",
        "colab_type": "code",
        "colab": {}
      },
      "source": [
        "#Extracting concepts from the string\n",
        "keywords = mc.TopicsResponse(mc.TopicsRequest(license_key, txt= all_tweets, topicType='c', lang= 'en').sendReq())\n",
        "concepts = keywords.getConcepts()\n",
        "print(concepts)"
      ],
      "execution_count": 0,
      "outputs": []
    },
    {
      "cell_type": "code",
      "metadata": {
        "id": "UU3lNDXMV3Em",
        "colab_type": "code",
        "colab": {}
      },
      "source": [
        "#Concepts are put into a set\n",
        "for concept in concepts:\n",
        "  tweet_keywords.add(keywords.getTopicForm(concept))\n",
        "print(tweet_keywords)"
      ],
      "execution_count": 0,
      "outputs": []
    },
    {
      "cell_type": "code",
      "metadata": {
        "id": "unolXb6yYZZn",
        "colab_type": "code",
        "colab": {}
      },
      "source": [
        "total_keywords = len(tweet_keywords)\n",
        "print(total_keywords)"
      ],
      "execution_count": 0,
      "outputs": []
    },
    {
      "cell_type": "code",
      "metadata": {
        "id": "9u12qet3apRJ",
        "colab_type": "code",
        "cellView": "both",
        "colab": {}
      },
      "source": [
        "#@title\n",
        "all_anime = pd.read_csv('animes.csv')\n",
        "all_anime['keyword_count'] = int(0)\n",
        "all_anime['final_weighted_value'] = int(0)\n"
      ],
      "execution_count": 0,
      "outputs": []
    },
    {
      "cell_type": "code",
      "metadata": {
        "id": "CmjQdqfLy_n6",
        "colab_type": "code",
        "colab": {}
      },
      "source": [
        "for anime in all_anime['synopsis']:\n",
        "  count = 0\n",
        "  if anime != '':\n",
        "    for tweet_keyword in tweet_keywords:\n",
        "      if tweet_keyword in str(anime):\n",
        "        count = count + 1\n",
        "  all_anime['keyword_count'].loc[all_anime['synopsis'] == anime] = count\n",
        "all_anime\n",
        "\n"
      ],
      "execution_count": 0,
      "outputs": []
    },
    {
      "cell_type": "code",
      "metadata": {
        "id": "_vyFCJyp2lO_",
        "colab_type": "code",
        "colab": {}
      },
      "source": [
        "#for count in all_anime['keyword_count']:\n",
        "#  if count == '':\n",
        "#    all_anime.loc[all_anime['keyword_count']=='','keyword_count'] = int(0)\n",
        "all_anime['final_weighted_value'] = all_anime['keyword_count']*0.2+all_anime['score']*0.8\n",
        "max_weighted_value = all_anime['final_weighted_value'].max()\n",
        "all_anime[all_anime['final_weighted_value'] == max_weighted_value]"
      ],
      "execution_count": 0,
      "outputs": []
    },
    {
      "cell_type": "code",
      "metadata": {
        "id": "dmDuYZXg_VbB",
        "colab_type": "code",
        "colab": {}
      },
      "source": [
        "all_anime.sort_values(by= 'final_weighted_value', ascending= False).head(10)"
      ],
      "execution_count": 0,
      "outputs": []
    },
    {
      "cell_type": "code",
      "metadata": {
        "id": "J5xxi7N2RCF8",
        "colab_type": "code",
        "colab": {}
      },
      "source": [
        ""
      ],
      "execution_count": 0,
      "outputs": []
    }
  ]
}